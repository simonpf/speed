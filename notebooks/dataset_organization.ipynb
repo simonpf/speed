{
 "cells": [
  {
   "cell_type": "markdown",
   "id": "7b4c0499-4e55-4976-924d-0754bc252b39",
   "metadata": {
    "editable": true,
    "slideshow": {
     "slide_type": ""
    },
    "tags": []
   },
   "source": [
    "# Dataset structure\n",
    "\n",
    "SPEED consists of collocations of GPM PMW sensors with *reference preciptiation estimates* from multiple *reference data sources*. All collocations are provided on two grids: The native grid of the respective GPM PMW sensor and regridded to a regular lat/lon grid with a resolution of 0.036$^\\circ$. These two types of collocations will be referred to as *native* and *gridded*.\n",
    " "
   ]
  },
  {
   "cell_type": "markdown",
   "id": "15fd0b4d-2539-4567-a421-eca05af9e8d6",
   "metadata": {
    "editable": true,
    "slideshow": {
     "slide_type": ""
    },
    "tags": []
   },
   "source": [
    "## Organization\n",
    "\n",
    "For a given source of reference data, here named ``reference``, the data is organized into folders as shown below.\n",
    "\n",
    "````\n",
    "<reference_data>\n",
    "    ├── <sensor_1>\n",
    "    │   ├── native\n",
    "    │   │   ├── <reference_data>_<sensor_2>_YYYYMMDDHHMMSS.nc\n",
    "    │   │   └── ...\n",
    "    │   └── gridded\n",
    "    │       ├── <reference_data>_<sensor_2>_YYYYMMDDHHMMSS.nc\n",
    "    │       └── ...\n",
    "    └── <sensor_2>\n",
    "        ├── native\n",
    "        │   ├── <reference_data>_<sensor2>_YYYYMMDDHHMMSS.nc\n",
    "        │   └── ...\n",
    "        └── gridded\n",
    "            ├── <reference_data>_<sensor_2>_YYYYMMDDHHMMSS.nc\n",
    "            └── ...\n",
    "````\n",
    "\n",
    "At the highest-level, the data is separated by reference data source. The collocations for every reference data souce are split up into a ``native`` sub-folder containing the collocations on the native grids and a ``gridded`` folder containing the gridded collocations. \n",
    "Within the ``native`` folder, collcation files are organized into different folders with respect to the sensor they are derived from (``sensor1`` and ``sensor2`` in the example)."
   ]
  },
  {
   "cell_type": "markdown",
   "id": "fc135c3f-bd78-4961-bf7c-3cd97a150c19",
   "metadata": {},
   "source": [
    "# File content\n",
    "\n",
    "The file structure of the native and regridded data is slightly different but they share the same variable names. Native-grid files contain both *input* and *reference* data in separate groups, whereas for the regridded data the reference data is provided as a separate file.\n",
    "\n",
    "## Variable names"
   ]
  },
  {
   "cell_type": "markdown",
   "id": "a5ce0ff7-abd0-412b-aa90-43c32e1ed416",
   "metadata": {},
   "source": [
    "### Input data\n",
    "\n",
    "The input data files all contain the following variables:"
   ]
  },
  {
   "cell_type": "markdown",
   "id": "c636db5f-e361-4e17-a4a1-aa8580660b8f",
   "metadata": {},
   "source": [
    "#### Observations\n",
    "\n",
    "| Variable name               | Explanation                                             | Unit         |\n",
    "|-----------------------------|---------------------------------------------------------|--------------|\n",
    "| ``tbs_mw``                  | Microwave brightness temperatures                      | K            | \n",
    "| ``tbs_ir``                  | 11 $\\mu m$ brightness temperatures                      | K            |"
   ]
  },
  {
   "cell_type": "markdown",
   "id": "3dc30c08-a7b8-4096-a9da-6ef5adb81732",
   "metadata": {},
   "source": [
    "#### Ancillary data\n",
    "\n",
    "| Variable name               | Explanation                                             | Unit         |\n",
    "|-----------------------------|---------------------------------------------------------|--------------|\n",
    "| ``earth_incidence_angle``   | Earth incidence angle                                   | Degree       |\n",
    "| ``wet_bulb_temperature``    | Wet-bulb temperature                                    | K            |\n",
    "| ``lapse_rate``              | Lapse rate                                              | K / km       |\n",
    "| ``total_column_water_vapor``| Total-column water vapor                                | kg / m$^2$   |\n",
    "| ``surface_temperature``     | Surface temperature                                     | K            |\n",
    "| ``two_meter_temperature``   | Two-meter temperature                                   | K            |\n",
    "| ``convective_precipitation``| ERA5 convective precipitation                           | mm / h       |\n",
    "|  ``moisture_convergence``   | ERA5 moisture convergence                               | kg / m$^2$   |\n",
    "| ``leaf_area_index``         | Leaf-area index                                         | m$^2$ / m$^2$|\n",
    "| ``snow_depth``              | Snow depth                                              | mm           |\n",
    "| ``orographic_wind``         | ERA5 orographic wind                                    | m / s        |\n",
    "| ``10m_wind``                | ERA5 10-m wind                                          | m / s        |\n",
    "| ``mountain_type``           | Mountain type                                           |  ---         |\n",
    "| ``land_fraction``           | Land fraction                                           | %            |\n",
    "|  ``ice_fraction``           | Ice fraction                                            | %            |\n",
    "| ``l1c_quality_flag``        | GPM L1C quality flag                                    |    ---       |\n",
    "| ``sunglint_angle``          | Sunglint angle                                          | Degree       |\n",
    "| ``surface_type``            | CSU surface type                                        | ---          |\n",
    "| ``airlifting_index``        | Airlifting index                                        | ---          |\n",
    "\n",
    "### Geolocation and time\n",
    "\n",
    "| Variable name               | Explanation                                             | Unit         |\n",
    "|-----------------------------|---------------------------------------------------------|--------------|\n",
    "| ``latitude``*               | Latitude                                                | Degree N     |\n",
    "| ``longitude``*              | Longitude                                               | Degree E     |\n",
    "| ``scan_time``*              | Time stamp marking the start of the scan line           | ---          |\n",
    "\n",
    "## Native grids\n",
    "\n",
    "\n",
    "## Input data\n",
    "\n",
    "## Reference data\n",
    "\n",
    "| Variable name               | Explanation                                             | Unit         |\n",
    "|-----------------------------|---------------------------------------------------------|--------------|\n",
    "| ``surface_precip``          | Ground-truth surface precipitation                      | mm/h         | \n",
    "| ``surface_precip_cmb``      | Surface precip from GPM CMB                             | mm/h         |\n",
    "| ``surface_precip_mirs``     | Surface precip from MIRS                                | mm/h         |\n",
    "\n",
    "> **Note**: Not all reference data variables are present in all files. The ``surface_precip_cmb`` and ``surface_precip_mirs``\n",
    " fields, for example, are only present in reference data derived from GPM CMB. The ``precip_type`` and ``radar_quality_index``\n",
    " field, on the other hand, are present only in files derived from MRMS."
   ]
  }
 ],
 "metadata": {
  "kernelspec": {
   "display_name": "Python 3 (ipykernel)",
   "language": "python",
   "name": "python3"
  },
  "language_info": {
   "codemirror_mode": {
    "name": "ipython",
    "version": 3
   },
   "file_extension": ".py",
   "mimetype": "text/x-python",
   "name": "python",
   "nbconvert_exporter": "python",
   "pygments_lexer": "ipython3",
   "version": "3.10.13"
  }
 },
 "nbformat": 4,
 "nbformat_minor": 5
}
