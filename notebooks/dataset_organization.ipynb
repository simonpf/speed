{
 "cells": [
  {
   "cell_type": "markdown",
   "id": "7b4c0499-4e55-4976-924d-0754bc252b39",
   "metadata": {},
   "source": [
    "# Dataset organization\n",
    "\n",
    " The SPREE dataset contains collocations of GPM constellation sensors with *reference preciptiation measurements* from different sources. All collocations are provided on two grids: The native grid of the GPM PMW sensor and regridded to a regular lat/lon grid with a resolution of 0.036$^\\circ$. These two types of collocations will be referred to as *native* and *regridded*.\n",
    " "
   ]
  },
  {
   "cell_type": "markdown",
   "id": "15fd0b4d-2539-4567-a421-eca05af9e8d6",
   "metadata": {},
   "source": [
    "For a given source of reference data, here named ``reference``, the data is organized as follows:\n",
    "\n",
    "````\n",
    "reference\n",
    "    ├── native\n",
    "    │   ├── sensor1\n",
    "    │   │   ├── reference_sensor1_YYYYMMDDHHMMSS.nc\n",
    "    │   │   └── ...\n",
    "    │   └── sensor2\n",
    "    │       ├── reference_sensor2_YYYYMMDDHHMMSS.nc\n",
    "    │       └── ...\n",
    "    └── regridded\n",
    "        ├── reference\n",
    "        │   └── reference_YYYYMMDDHHMMSS.nc\n",
    "        ├── sensor1\n",
    "        │   ├── sensor1_YYYYMMDDHHMMSS.nc\n",
    "        │   └── ...\n",
    "        └── sensor2\n",
    "            ├── sensor2_YYYYMMDDHHMMSS.nc\n",
    "            └── ...\n",
    "````\n",
    "\n",
    "The ``native`` sub-folder contains folders for each of the input sources, here ``sensor1`` and ``sensor2``. These sensors folder contain the collocations in NetCDF4 format. The ``regridded`` folder contains the corresponding regridded collocations organized into folders for each input sources and an additional folder containing the reference data."
   ]
  },
  {
   "cell_type": "code",
   "execution_count": null,
   "id": "b66b8e5f-1b9d-4464-819a-d7c284c9e06f",
   "metadata": {},
   "outputs": [],
   "source": []
  }
 ],
 "metadata": {
  "kernelspec": {
   "display_name": "Python 3 (ipykernel)",
   "language": "python",
   "name": "python3"
  },
  "language_info": {
   "codemirror_mode": {
    "name": "ipython",
    "version": 3
   },
   "file_extension": ".py",
   "mimetype": "text/x-python",
   "name": "python",
   "nbconvert_exporter": "python",
   "pygments_lexer": "ipython3",
   "version": "3.10.12"
  }
 },
 "nbformat": 4,
 "nbformat_minor": 5
}
